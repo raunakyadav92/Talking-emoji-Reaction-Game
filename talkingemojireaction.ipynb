{
  "nbformat": 4,
  "nbformat_minor": 0,
  "metadata": {
    "colab": {
      "provenance": [],
      "authorship_tag": "ABX9TyN1mzwQy8eywlS92Axm4vhk",
      "include_colab_link": true
    },
    "kernelspec": {
      "name": "python3",
      "display_name": "Python 3"
    },
    "language_info": {
      "name": "python"
    }
  },
  "cells": [
    {
      "cell_type": "markdown",
      "metadata": {
        "id": "view-in-github",
        "colab_type": "text"
      },
      "source": [
        "<a href=\"https://colab.research.google.com/github/raunakyadav92/Talking-emoji-Reaction-Game/blob/main/talkingemojireaction.ipynb\" target=\"_parent\"><img src=\"https://colab.research.google.com/assets/colab-badge.svg\" alt=\"Open In Colab\"/></a>"
      ]
    },
    {
      "cell_type": "code",
      "execution_count": null,
      "metadata": {
        "id": "ZS7zTaOtFCVs"
      },
      "outputs": [],
      "source": [
        "import speech_recognition as sr\n",
        "import pyttsx3\n",
        "\n",
        "def speak(text):\n",
        "    engine = pyttsx3.init()\n",
        "    engine.say(text)\n",
        "    engine.runAndWait()\n",
        "\n",
        "def listen():\n",
        "    r = sr.Recognizer()\n",
        "    with sr.Microphone() as source:\n",
        "        print(\"🎤 Speak now...\")\n",
        "        audio = r.listen(source)\n",
        "        try:\n",
        "            text = r.recognize_google(audio)\n",
        "            print(f\"You said: {text}\")\n",
        "            return text.lower()\n",
        "        except:\n",
        "            print(\"❌ Couldn't understand.\")\n",
        "            return \"\"\n",
        "\n",
        "def get_reaction(user_input):\n",
        "    if any(word in user_input for word in [\"happy\", \"good\", \"great\"]):\n",
        "        return \"😊 That's awesome!\"\n",
        "    elif any(word in user_input for word in [\"sad\", \"bad\", \"tired\"]):\n",
        "        return \"😔 Oh no, cheer up!\"\n",
        "    elif any(word in user_input for word in [\"angry\", \"mad\"]):\n",
        "        return \"😡 Stay calm!\"\n",
        "    else:\n",
        "        return \"🤔 Interesting!\"\n",
        "\n",
        "speak(\"🎤 Hi! Say something to me!\")\n",
        "\n",
        "user_input = listen()\n",
        "if user_input:\n",
        "    reaction = get_reaction(user_input)\n",
        "    print(reaction)\n",
        "    speak(reaction)\n"
      ]
    }
  ]
}